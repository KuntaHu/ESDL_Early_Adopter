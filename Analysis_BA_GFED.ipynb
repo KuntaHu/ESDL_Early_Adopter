{
 "cells": [
  {
   "cell_type": "markdown",
   "metadata": {},
   "source": [
    "# Analysis the Burned Area Dataset\n",
    "\n",
    "by Xikun Hu\n",
    "\n"
   ]
  },
  {
   "cell_type": "code",
   "execution_count": 1,
   "metadata": {},
   "outputs": [],
   "source": [
    "import xarray as xr\n",
    "import numpy as np\n",
    "import pandas as pd\n",
    "from numpy import datetime64\n",
    "from ipywidgets import interact \n",
    "import matplotlib.pyplot as plt\n",
    "import matplotlib\n",
    "%matplotlib inline\n",
    "import warnings\n",
    "warnings.filterwarnings('ignore')\n",
    "import warnings\n",
    "warnings.simplefilter('ignore')\n",
    "from dask.diagnostics import ProgressBar\n",
    "import matplotlib.cm as cm"
   ]
  },
  {
   "cell_type": "code",
   "execution_count": null,
   "metadata": {},
   "outputs": [],
   "source": [
    "xr.show_versions()"
   ]
  },
  {
   "cell_type": "code",
   "execution_count": 2,
   "metadata": {},
   "outputs": [],
   "source": [
    "ESDC_img = xr.open_zarr(\"/home/jovyan/work/datacube/ESDCv2.0.0/esdc-8d-0.25deg-1x720x1440-2.0.0.zarr\")"
   ]
  },
  {
   "cell_type": "code",
   "execution_count": 3,
   "metadata": {},
   "outputs": [],
   "source": [
    "ESDC_time = xr.open_zarr(\"/home/jovyan/work/datacube/ESDCv2.0.0/esdc-8d-0.25deg-184x90x90-2.0.0.zarr\")"
   ]
  },
  {
   "cell_type": "code",
   "execution_count": 4,
   "metadata": {},
   "outputs": [],
   "source": [
    "ESDC_img = ESDC_img.burnt_area"
   ]
  },
  {
   "cell_type": "code",
   "execution_count": null,
   "metadata": {},
   "outputs": [],
   "source": [
    "Europe = ESDC_img.sel(lat = slice(70.,30.), lon = slice(-20.,35.))"
   ]
  },
  {
   "cell_type": "code",
   "execution_count": null,
   "metadata": {},
   "outputs": [],
   "source": [
    "## time series from 2000 to 2015\n",
    "Europe = Europe.sel(time = slice('1995-08-01','2014-07-30'))"
   ]
  },
  {
   "cell_type": "markdown",
   "metadata": {},
   "source": [
    "## First methof to sum the time dimension based on Xarray"
   ]
  },
  {
   "cell_type": "code",
   "execution_count": null,
   "metadata": {},
   "outputs": [],
   "source": [
    "%time Europe_BA_time = Europe.sum(dim='time').compute()"
   ]
  },
  {
   "cell_type": "code",
   "execution_count": null,
   "metadata": {},
   "outputs": [],
   "source": [
    "from matplotlib.colors import LogNorm\n",
    "plt.figure()\n",
    "Europe_BA_time.plot()\n",
    "# plt.savefig('Sum_API_time_dimension.png', dpi = 500,bbox_inches='tight')"
   ]
  },
  {
   "cell_type": "markdown",
   "metadata": {},
   "source": [
    "## Get the one dimensional value for Burned Area based on Numpy"
   ]
  },
  {
   "cell_type": "code",
   "execution_count": null,
   "metadata": {},
   "outputs": [],
   "source": [
    "Europe_1 = Europe.values"
   ]
  },
  {
   "cell_type": "code",
   "execution_count": null,
   "metadata": {},
   "outputs": [],
   "source": [
    "Europe_1.shape"
   ]
  },
  {
   "cell_type": "code",
   "execution_count": null,
   "metadata": {},
   "outputs": [],
   "source": [
    "sum_axis_0_BA = np.sum(Europe_1, axis=0)"
   ]
  },
  {
   "cell_type": "code",
   "execution_count": null,
   "metadata": {},
   "outputs": [],
   "source": [
    "sum_axis_0_BA.shape"
   ]
  },
  {
   "cell_type": "code",
   "execution_count": null,
   "metadata": {},
   "outputs": [],
   "source": [
    "plt.imshow(sum_axis_0_BA)"
   ]
  },
  {
   "cell_type": "code",
   "execution_count": null,
   "metadata": {},
   "outputs": [],
   "source": [
    "# plt.imshow(sum_axis_0_BA_thre)"
   ]
  },
  {
   "cell_type": "code",
   "execution_count": null,
   "metadata": {},
   "outputs": [],
   "source": [
    "from matplotlib.colors import LogNorm\n",
    "plt.figure()\n",
    "plt.imshow(sum_axis_0_BA, norm=LogNorm()) # show the value as logNorm\n",
    "# plt.imshow(sum_axis_0_BA)\n",
    "plt.colorbar()\n",
    "# plt.show()\n",
    "plt.savefig('BA_sum_all_years_logNorm.png', dpi=500, bbox_inches='tight')"
   ]
  },
  {
   "cell_type": "code",
   "execution_count": null,
   "metadata": {},
   "outputs": [],
   "source": [
    "# get the threshold value over than 10 000\n",
    "sum_axis_0_BA_thre = (sum_axis_0_BA > 10000) * sum_axis_0_BA\n",
    "sum_axis_0_BA_thre.shape"
   ]
  },
  {
   "cell_type": "code",
   "execution_count": null,
   "metadata": {},
   "outputs": [],
   "source": [
    "# total burned area \n",
    "tba = sum_axis_0_BA.sum().sum()\n",
    "tba"
   ]
  },
  {
   "cell_type": "code",
   "execution_count": null,
   "metadata": {},
   "outputs": [],
   "source": [
    "from matplotlib.colors import LogNorm\n",
    "plt.figure()\n",
    "plt.imshow(sum_axis_0_BA_thre, norm=LogNorm()) # show the value as logNorm\n",
    "# plt.imshow(sum_axis_0_BA)\n",
    "plt.colorbar()\n",
    "# plt.show()\n",
    "# plt.axis([30, 60, 100, 140])\n",
    "plt.savefig('BA_sum_all_years_logNorm_10000Thre.png', dpi=500, bbox_inches='tight')"
   ]
  },
  {
   "cell_type": "code",
   "execution_count": null,
   "metadata": {},
   "outputs": [],
   "source": [
    "from matplotlib.colors import LogNorm\n",
    "plt.figure()\n",
    "plt.imshow(sum_axis_0_BA_thre, norm=LogNorm()) # show the value as logNorm\n",
    "# plt.imshow(sum_axis_0_BA)\n",
    "plt.colorbar()\n",
    "# plt.show()\n",
    "plt.axis([30, 60, 140, 100])\n",
    "plt.savefig('BA_sum_all_years_logNorm_1000Thre_Region_30_60_140_100.png', dpi=500, bbox_inches='tight')"
   ]
  },
  {
   "cell_type": "markdown",
   "metadata": {},
   "source": [
    "# Study area - spatial analysis"
   ]
  },
  {
   "cell_type": "code",
   "execution_count": null,
   "metadata": {},
   "outputs": [],
   "source": [
    "# lat = slice(45.,35.)\n",
    "# lon = slice(-12.5,-5.)\n",
    "ESDC_img = xr.open_zarr(\"/home/jovyan/work/datacube/ESDCv2.0.0/esdc-8d-0.25deg-1x720x1440-2.0.0.zarr\")"
   ]
  },
  {
   "cell_type": "code",
   "execution_count": 6,
   "metadata": {},
   "outputs": [],
   "source": [
    "Europe_study_area = ESDC_img.sel(lat = slice(45.,35.), lon = slice(-12.5,-5.))\n",
    "Europe_study_area_year = Europe_study_area.sel(time = slice('1995-08-01','2014-07-30'))\n",
    "BA_year = Europe_study_area_year.burnt_area.groupby('time.year').sum(dim='time')"
   ]
  },
  {
   "cell_type": "code",
   "execution_count": null,
   "metadata": {},
   "outputs": [],
   "source": [
    "BA_year_value = BA_year.values\n",
    "BA_year_value_sum = np.sum(BA_year_value, axis = 1)\n",
    "BA_year_value_sum = np.sum(BA_year_value_sum, axis = 1)"
   ]
  },
  {
   "cell_type": "code",
   "execution_count": null,
   "metadata": {},
   "outputs": [],
   "source": [
    "BA_year_value_sum"
   ]
  },
  {
   "cell_type": "code",
   "execution_count": null,
   "metadata": {},
   "outputs": [],
   "source": [
    "# BA_year.plot.imshow(x='lon',y='lat',col='year',col_wrap=5)"
   ]
  },
  {
   "cell_type": "code",
   "execution_count": null,
   "metadata": {},
   "outputs": [],
   "source": [
    "plt.figure()\n",
    "BA_year.plot.imshow(x='lon',y='lat',col='year',col_wrap=5)\n",
    "plt.savefig('Portugal_BA_group_Year.png', dpi = 500,bbox_inches='tight')"
   ]
  },
  {
   "cell_type": "code",
   "execution_count": null,
   "metadata": {},
   "outputs": [],
   "source": [
    "## find the dramatic year of burned area\n",
    "# 2003"
   ]
  },
  {
   "cell_type": "code",
   "execution_count": null,
   "metadata": {},
   "outputs": [],
   "source": [
    "Europe_study_area_selected_year = Europe_study_area.sel(time=slice('2003-01-01', '2003-12-31'))\n",
    "BA_month = Europe_study_area_selected_year.burnt_area.groupby('time.month').sum(dim='time')"
   ]
  },
  {
   "cell_type": "code",
   "execution_count": null,
   "metadata": {},
   "outputs": [],
   "source": [
    "BA_month_value = BA_month.values\n",
    "BA_month_value_sum = np.sum(BA_month_value, axis = 1)\n",
    "BA_month_value_sum = np.sum(BA_month_value_sum, axis = 1)\n",
    "BA_month_value_sum"
   ]
  },
  {
   "cell_type": "code",
   "execution_count": null,
   "metadata": {},
   "outputs": [],
   "source": [
    "plt.figure()\n",
    "BA_month.plot.imshow(x='lon',y='lat',col='month',col_wrap=4)\n",
    "plt.savefig('Portugal_BA_group_Month.png', dpi = 500,bbox_inches='tight')"
   ]
  },
  {
   "cell_type": "code",
   "execution_count": 5,
   "metadata": {},
   "outputs": [],
   "source": [
    "Europe_study_area = ESDC_img.sel(lat = slice(45.,35.), lon = slice(-12.5,-5.))\n",
    "Europe_study_area_selected_month = Europe_study_area.sel(time=slice('2003-08-01', '2003-08-30'))\n",
    "# BA_week = Europe_study_area_selected_month.burnt_area.groupby('time.week').sum(dim='time')"
   ]
  },
  {
   "cell_type": "code",
   "execution_count": 8,
   "metadata": {},
   "outputs": [
    {
     "data": {
      "text/plain": [
       "<xarray.DataArray 'burnt_area' (time: 4, lat: 40, lon: 30)>\n",
       "dask.array<shape=(4, 40, 30), dtype=float32, chunksize=(1, 40, 30)>\n",
       "Coordinates:\n",
       "  * lat      (lat) float32 44.875 44.625 44.375 44.125 ... 35.625 35.375 35.125\n",
       "  * lon      (lon) float32 -12.375 -12.125 -11.875 ... -5.625 -5.375 -5.125\n",
       "  * time     (time) datetime64[ns] 2003-08-01 2003-08-09 2003-08-17 2003-08-25\n",
       "Attributes:\n",
       "    ID:                        54\n",
       "    esa_cci_path:              nan\n",
       "    long_name:                 Monthly Burnt Area\n",
       "    orig_attrs:                {'comment': 'Burnt Area based on the GFED4 fir...\n",
       "    orig_version:              gfed4\n",
       "    project_name:              GFED4\n",
       "    time_coverage_end:         2014-03-02\n",
       "    time_coverage_resolution:  P8D\n",
       "    time_coverage_start:       1995-01-05\n",
       "    units:                     hectares\n",
       "    url:                       http://www.globalfiredata.org/"
      ]
     },
     "execution_count": 8,
     "metadata": {},
     "output_type": "execute_result"
    }
   ],
   "source": [
    "Europe_study_area_selected_month"
   ]
  },
  {
   "cell_type": "code",
   "execution_count": 18,
   "metadata": {},
   "outputs": [],
   "source": [
    "Europe_BA_time_month_sum = Europe_study_area_selected_month.mean(dim='time').compute()"
   ]
  },
  {
   "cell_type": "code",
   "execution_count": 6,
   "metadata": {},
   "outputs": [],
   "source": [
    "def above_Nsigma(x,Nsigma):\n",
    "    return xr.ufuncs.fabs(x)>Nsigma"
   ]
  },
  {
   "cell_type": "code",
   "execution_count": 9,
   "metadata": {},
   "outputs": [
    {
     "ename": "AttributeError",
     "evalue": "'DataArray' object has no attribute 'apply'",
     "output_type": "error",
     "traceback": [
      "\u001b[0;31m---------------------------------------------------------------------------\u001b[0m",
      "\u001b[0;31mAttributeError\u001b[0m                            Traceback (most recent call last)",
      "\u001b[0;32m<ipython-input-9-2683adc913c8>\u001b[0m in \u001b[0;36m<module>\u001b[0;34m\u001b[0m\n\u001b[0;32m----> 1\u001b[0;31m \u001b[0mres_BA_August\u001b[0m \u001b[0;34m=\u001b[0m \u001b[0mEurope_study_area_selected_month\u001b[0m\u001b[0;34m.\u001b[0m\u001b[0mapply\u001b[0m\u001b[0;34m(\u001b[0m\u001b[0mabove_Nsigma\u001b[0m\u001b[0;34m,\u001b[0m \u001b[0mNsigma\u001b[0m \u001b[0;34m=\u001b[0m \u001b[0;36m1000\u001b[0m\u001b[0;34m)\u001b[0m\u001b[0;34m\u001b[0m\u001b[0;34m\u001b[0m\u001b[0m\n\u001b[0m",
      "\u001b[0;32m/opt/conda/lib/python3.7/site-packages/xarray/core/common.py\u001b[0m in \u001b[0;36m__getattr__\u001b[0;34m(self, name)\u001b[0m\n\u001b[1;32m    177\u001b[0m                     \u001b[0;32mreturn\u001b[0m \u001b[0msource\u001b[0m\u001b[0;34m[\u001b[0m\u001b[0mname\u001b[0m\u001b[0;34m]\u001b[0m\u001b[0;34m\u001b[0m\u001b[0;34m\u001b[0m\u001b[0m\n\u001b[1;32m    178\u001b[0m         raise AttributeError(\"%r object has no attribute %r\" %\n\u001b[0;32m--> 179\u001b[0;31m                              (type(self).__name__, name))\n\u001b[0m\u001b[1;32m    180\u001b[0m \u001b[0;34m\u001b[0m\u001b[0m\n\u001b[1;32m    181\u001b[0m     \u001b[0;32mdef\u001b[0m \u001b[0m__setattr__\u001b[0m\u001b[0;34m(\u001b[0m\u001b[0mself\u001b[0m\u001b[0;34m,\u001b[0m \u001b[0mname\u001b[0m\u001b[0;34m,\u001b[0m \u001b[0mvalue\u001b[0m\u001b[0;34m)\u001b[0m\u001b[0;34m:\u001b[0m\u001b[0;34m\u001b[0m\u001b[0;34m\u001b[0m\u001b[0m\n",
      "\u001b[0;31mAttributeError\u001b[0m: 'DataArray' object has no attribute 'apply'"
     ]
    }
   ],
   "source": [
    "res_BA_August = Europe_study_area_selected_month.apply(above_Nsigma, Nsigma = 1000)"
   ]
  },
  {
   "cell_type": "code",
   "execution_count": null,
   "metadata": {},
   "outputs": [],
   "source": [
    "fig2, ax2 = plt.subplots(figsize = [7,5], ncols=1)\n",
    "\n",
    "res.res_BA_August.plot(ax = ax2)\n",
    "ax2.set_title(\"No of BA over 1000 ha\")\n",
    "\n",
    "plt.tight_layout()\n",
    "plt.savefig('BA_over_1000ha.png', dpi = 500,bbox_inches='tight')"
   ]
  },
  {
   "cell_type": "code",
   "execution_count": 10,
   "metadata": {},
   "outputs": [
    {
     "data": {
      "image/png": "[encoded data removed]",
      "text/plain": [
       "<Figure size 504x360 with 2 Axes>"
      ]
     },
     "metadata": {
      "needs_background": "light"
     },
     "output_type": "display_data"
    }
   ],
   "source": [
    "fig2, ax2 = plt.subplots(figsize = [7,5], ncols=1)\n",
    "\n",
    "Europe_BA_time_month_sum.plot(ax = ax2)\n",
    "ax2.set_title(\"Burnt_area_August\")\n",
    "\n",
    "plt.tight_layout()\n",
    "plt.savefig('Sum_API_time_dimension_August.png', dpi = 500,bbox_inches='tight')"
   ]
  },
  {
   "cell_type": "code",
   "execution_count": null,
   "metadata": {},
   "outputs": [],
   "source": [
    "BA_week_value = BA_week.values\n",
    "BA_week_value_sum = np.sum(BA_week_value, axis = 1)\n",
    "BA_week_value_sum = np.sum(BA_week_value_sum, axis = 1)\n",
    "BA_week_value_sum"
   ]
  },
  {
   "cell_type": "code",
   "execution_count": null,
   "metadata": {},
   "outputs": [],
   "source": [
    "plt.figure()\n",
    "BA_week.plot.imshow(x='lon',y='lat',col='week',col_wrap=2)\n",
    "plt.savefig('Portugal_BA_group_week.png', dpi = 500,bbox_inches='tight')"
   ]
  },
  {
   "cell_type": "markdown",
   "metadata": {},
   "source": [
    "## Time Series Analysis"
   ]
  },
  {
   "cell_type": "code",
   "execution_count": null,
   "metadata": {},
   "outputs": [],
   "source": [
    "Europe_study_area = ESDC_img.sel(lat = slice(45.,35.), lon = slice(-12.5,-5.))\n",
    "Europe_study_area_year = Europe_study_area.sel(time = slice('1995-08-01','2014-07-24'))\n",
    "BA_ts = Europe_study_area_year.burnt_area"
   ]
  },
  {
   "cell_type": "code",
   "execution_count": null,
   "metadata": {},
   "outputs": [],
   "source": [
    "BA_ts"
   ]
  },
  {
   "cell_type": "code",
   "execution_count": null,
   "metadata": {},
   "outputs": [],
   "source": [
    "BA_ts_mean = BA_ts.mean(dim='lon').mean(dim='lat')\n",
    "fig, ax = plt.subplots(figsize = [14,5], ncols=2)\n",
    "\n",
    "BA_ts_mean.plot(ax = ax[0], color ='red', marker ='.')\n",
    "ax[0].set_title(\"Burnt Area in Portugal\")\n",
    "BA_ts_mean.plot.hist(ax = ax[1], color ='blue',bins = 100)\n",
    "ax[1].set_xlabel(\"Burnt Area (hactares)\")\n",
    "plt.tight_layout()\n",
    "plt.savefig('Portugal_BA_TS.png', dpi = 500,bbox_inches='tight')"
   ]
  },
  {
   "cell_type": "markdown",
   "metadata": {},
   "source": [
    "## Temperature and Precipitation Analysis"
   ]
  },
  {
   "cell_type": "code",
   "execution_count": 8,
   "metadata": {},
   "outputs": [],
   "source": [
    "Europe_study_area = ESDC_img.sel(lat = slice(45.,35.), lon = slice(-12.5,-5.))\n",
    "Europe_study_area_year = Europe_study_area.sel(time = slice('1995-08-01','2014-07-24'))\n",
    "Pre_ts = Europe_study_area_year.precipitation\n",
    "Tem_ts = Europe_study_area_year.air_temperature_2m\n",
    "CE_ts = Europe_study_area_year.c_emissions"
   ]
  },
  {
   "cell_type": "code",
   "execution_count": 9,
   "metadata": {},
   "outputs": [
    {
     "name": "stdout",
     "output_type": "stream",
     "text": [
      "<xarray.DataArray 'c_emissions' (time: 874, lat: 40, lon: 30)>\n",
      "dask.array<shape=(874, 40, 30), dtype=float32, chunksize=(1, 40, 30)>\n",
      "Coordinates:\n",
      "  * lat      (lat) float32 44.875 44.625 44.375 44.125 ... 35.625 35.375 35.125\n",
      "  * lon      (lon) float32 -12.375 -12.125 -11.875 ... -5.625 -5.375 -5.125\n",
      "  * time     (time) datetime64[ns] 1995-08-01 1995-08-09 ... 2014-07-24\n",
      "Attributes:\n",
      "    ID:                        53\n",
      "    esa_cci_path:              nan\n",
      "    long_name:                 Carbon Dioxide Emissions Due to Natural Fires\n",
      "    orig_attrs:                {'comment': 'Carbon emissions by fires based o...\n",
      "    orig_version:              gfed4\n",
      "    project_name:              GFED4\n",
      "    time_coverage_end:         2010-12-31\n",
      "    time_coverage_resolution:  P8D\n",
      "    time_coverage_start:       2001-01-05\n",
      "    units:                     g C m-2 month-1\n",
      "    url:                       http://www.globalfiredata.org/\n"
     ]
    }
   ],
   "source": [
    "print(CE_ts)"
   ]
  },
  {
   "cell_type": "code",
   "execution_count": null,
   "metadata": {},
   "outputs": [],
   "source": [
    "# print(LE_ts)"
   ]
  },
  {
   "cell_type": "code",
   "execution_count": null,
   "metadata": {},
   "outputs": [],
   "source": [
    "BA_ts_mean = BA_ts.mean(dim='lon').mean(dim='lat')\n",
    "Pre_ts_mean = Pre_ts.mean(dim='lon').mean(dim='lat')\n",
    "Tem_ts_mean = Tem_ts.mean(dim='lon').mean(dim='lat')\n",
    "\n",
    "fig = plt.subplots(figsize = [14,5])\n",
    "\n",
    "# BA_ts_mean.plot(ax = ax[0], color ='red', marker ='.')\n",
    "# ax[0].set_title(\"Burnt Area in Portugal\")\n",
    "# Pre_ts_mean.plot(ax = ax[1], color ='blue', marker ='*')\n",
    "Tem_ts_mean.plot(color ='cyan', marker ='o')\n",
    "\n",
    "# ax[1].set_ylabel(\"Burnt Area (hactares)\")\n",
    "# plt.tight_layout()\n",
    "plt.savefig('Portugal_Tem_TS.png', dpi = 500,bbox_inches='tight')"
   ]
  },
  {
   "cell_type": "code",
   "execution_count": 12,
   "metadata": {},
   "outputs": [
    {
     "data": {
      "image/png": "[encoded data removed]",
      "text/plain": [
       "<Figure size 1008x504 with 1 Axes>"
      ]
     },
     "metadata": {
      "needs_background": "light"
     },
     "output_type": "display_data"
    }
   ],
   "source": [
    "CE_ts_mean = CE_ts.mean(dim='lon').mean(dim='lat')\n",
    "# LE_ts_mean = LE_ts.mean(dim='lon').mean(dim='lat')\n",
    "\n",
    "fig, ax = plt.subplots(figsize = [14,7], nrows=1)\n",
    "\n",
    "# ST_ts_mean.plot(ax = ax[0], color ='red', marker ='.')\n",
    "# ax[0].set_title(\"Burnt Area in Portugal\")\n",
    "CE_ts_mean.plot(ax = ax, color ='blue', marker = 'o')\n",
    "# ax[1].set_xlabel(\"Burnt Area (hactares)\")\n",
    "plt.tight_layout()\n",
    "plt.savefig('Portugal_CE_TS.png', dpi = 500,bbox_inches='tight')"
   ]
  },
  {
   "cell_type": "code",
   "execution_count": null,
   "metadata": {},
   "outputs": [],
   "source": []
  }
 ],
 "metadata": {
  "kernelspec": {
   "display_name": "Python 3",
   "language": "python",
   "name": "python3"
  },
  "language_info": {
   "codemirror_mode": {
    "name": "ipython",
    "version": 3
   },
   "file_extension": ".py",
   "mimetype": "text/x-python",
   "name": "python",
   "nbconvert_exporter": "python",
   "pygments_lexer": "ipython3",
   "version": "3.7.3"
  }
 },
 "nbformat": 4,
 "nbformat_minor": 2
}
